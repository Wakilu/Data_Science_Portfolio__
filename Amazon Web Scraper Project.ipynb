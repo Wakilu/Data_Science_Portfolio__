{
 "cells": [
  {
   "cell_type": "code",
   "execution_count": 25,
   "id": "2548f45f",
   "metadata": {},
   "outputs": [],
   "source": [
    "# import libraries \n",
    "\n",
    "from bs4 import BeautifulSoup\n",
    "import requests\n",
    "import time\n",
    "import datetime\n",
    "\n",
    "import smtplib"
   ]
  },
  {
   "cell_type": "code",
   "execution_count": 26,
   "id": "0753b65f",
   "metadata": {},
   "outputs": [],
   "source": [
    "# Connect to Website and pull in data\n",
    "URL = \"https://www.amazon.com/SAMSUNG-Unlocked-Smartphone-Foldable-Compatible/dp/B0B3TBBKQ8/ref=sr_1_1_sspa?crid=2U5HP8KKHKD8N&keywords=samsung+galaxy+z+fold+4&qid=1665355442&qu=eyJxc2MiOiI0Ljk3IiwicXNhIjoiNS40MSIsInFzcCI6IjQuNTAifQ%3D%3D&sprefix=samsung+galaxy+z+%2Caps%2C417&sr=8-1-spons&psc=1\"\n",
    "\n",
    "headers = {\"User-Agent\": \"Mozilla/5.0 (Windows NT 10.0; Win64; x64) AppleWebKit/537.36 (KHTML, like Gecko) Chrome/105.0.0.0 Safari/537.36 Edg/105.0.1343.53\", \"Accept-Encoding\":\"gzip, deflate\", \"Accept\":\"text/html,application/xhtml+xml,application/xml;q=0.9,*/*;q=0.8\", \"DNT\":\"1\",\"Connection\":\"close\", \"Upgrade-Insecure-Requests\":\"1\"}\n",
    "\n",
    "page = requests.get(URL, headers=headers)\n",
    "\n",
    "soup1 = BeautifulSoup(page.content, \"html.parser\")\n",
    "\n",
    "soup2 = BeautifulSoup(soup1.prettify(), \"html.parser\")\n",
    "\n",
    "title = soup2.find(id=\"productTitle\").get_text()\n",
    "\n",
    "price = soup2.find(id=\"corePriceDisplay_desktop_feature_div\").get_text()\n",
    "\n",
    "ratings = soup2.find(id=\"acrCustomerReviewText\").get_text()\n",
    "\n",
    "rating_star = soup2.find(id=\"acrPopover\").get_text()\n",
    "\n",
    "size = soup2.find(id=\"variation_size_name\").get_text()\n",
    "\n",
    "sizes = soup2.find(id=\"variation_size_name\").get_text()\n",
    "\n",
    "color = soup2.find(id=\"variation_color_name\").get_text()\n",
    "\n",
    "#print(title)\n",
    "#print(price)\n",
    "# print(ratings)\n",
    "# print(rating_star)\n",
    "# print(size)\n",
    "# print(color)\n"
   ]
  },
  {
   "cell_type": "markdown",
   "id": "b31c2979",
   "metadata": {},
   "source": [
    "#### Data Cleaning"
   ]
  },
  {
   "cell_type": "code",
   "execution_count": 27,
   "id": "3a04a858",
   "metadata": {},
   "outputs": [
    {
     "data": {
      "text/plain": [
       "'SAMSUNG Galaxy Z Fold 4 Cell Phone, Factory Unlocked Android Smartphone, 256GB, Flex Mode, Hands Free Video, Multi Window View, Foldable Display, S Pen Compatible, US Version, Phantom Black'"
      ]
     },
     "execution_count": 27,
     "metadata": {},
     "output_type": "execute_result"
    }
   ],
   "source": [
    "title = title.strip()\n",
    "title"
   ]
  },
  {
   "cell_type": "code",
   "execution_count": 28,
   "id": "979b918c",
   "metadata": {},
   "outputs": [
    {
     "data": {
      "text/plain": [
       "'1,499.99'"
      ]
     },
     "execution_count": 28,
     "metadata": {},
     "output_type": "execute_result"
    }
   ],
   "source": [
    "price = price.strip()[33:41]\n",
    "price"
   ]
  },
  {
   "cell_type": "code",
   "execution_count": 29,
   "id": "755d73af",
   "metadata": {},
   "outputs": [
    {
     "data": {
      "text/plain": [
       "'4 ratings'"
      ]
     },
     "execution_count": 29,
     "metadata": {},
     "output_type": "execute_result"
    }
   ],
   "source": [
    "ratings = ratings.strip()\n",
    "ratings"
   ]
  },
  {
   "cell_type": "code",
   "execution_count": 30,
   "id": "4476c8b6",
   "metadata": {},
   "outputs": [
    {
     "data": {
      "text/plain": [
       "'2.9 out of 5 stars'"
      ]
     },
     "execution_count": 30,
     "metadata": {},
     "output_type": "execute_result"
    }
   ],
   "source": [
    "rating_star = rating_star.strip()\n",
    "rating_star"
   ]
  },
  {
   "cell_type": "code",
   "execution_count": 37,
   "id": "c0ab5420",
   "metadata": {},
   "outputs": [
    {
     "data": {
      "text/plain": [
       "'512GB'"
      ]
     },
     "execution_count": 37,
     "metadata": {},
     "output_type": "execute_result"
    }
   ],
   "source": [
    "# sizes = sizes.strip()[-5::]\n",
    "# sizes"
   ]
  },
  {
   "cell_type": "code",
   "execution_count": 32,
   "id": "b1d6fdb5",
   "metadata": {},
   "outputs": [
    {
     "data": {
      "text/plain": [
       "'256GB'"
      ]
     },
     "execution_count": 32,
     "metadata": {},
     "output_type": "execute_result"
    }
   ],
   "source": [
    "size = size.strip()[37:42]\n",
    "size"
   ]
  },
  {
   "cell_type": "code",
   "execution_count": 33,
   "id": "53bf7a52",
   "metadata": {},
   "outputs": [
    {
     "data": {
      "text/plain": [
       "'Phantom Black'"
      ]
     },
     "execution_count": 33,
     "metadata": {},
     "output_type": "execute_result"
    }
   ],
   "source": [
    "color = color.strip()[38::]\n",
    "color"
   ]
  },
  {
   "cell_type": "code",
   "execution_count": 34,
   "id": "52248e9c",
   "metadata": {},
   "outputs": [
    {
     "name": "stdout",
     "output_type": "stream",
     "text": [
      "2022-10-10\n"
     ]
    }
   ],
   "source": [
    "import datetime\n",
    "today = datetime.date.today()\n",
    "\n",
    "print(today)"
   ]
  },
  {
   "cell_type": "markdown",
   "id": "c2de1c4b",
   "metadata": {},
   "source": [
    "#### create csv file"
   ]
  },
  {
   "cell_type": "code",
   "execution_count": 35,
   "id": "bea3aa6d",
   "metadata": {},
   "outputs": [],
   "source": [
    "import csv\n",
    "\n",
    "header = [\"Title\", \"Price\", \"Ratings\", \"Rating_star\",\"Size\", \"Color\", \"Date\"]\n",
    "\n",
    "data = [title, price, ratings, rating_star, size, color, today]\n",
    "       \n",
    "with open(\"AmazonWebSraperDataset.csv\", \"w\", newline=\"\", encoding=\"UTF8\") as f:\n",
    "    writer = csv.writer(f)\n",
    "    writer.writerow(header)\n",
    "    writer.writerow(data)\n",
    "    \n",
    "    "
   ]
  },
  {
   "cell_type": "code",
   "execution_count": 36,
   "id": "866669c5",
   "metadata": {},
   "outputs": [
    {
     "data": {
      "text/html": [
       "<div>\n",
       "<style scoped>\n",
       "    .dataframe tbody tr th:only-of-type {\n",
       "        vertical-align: middle;\n",
       "    }\n",
       "\n",
       "    .dataframe tbody tr th {\n",
       "        vertical-align: top;\n",
       "    }\n",
       "\n",
       "    .dataframe thead th {\n",
       "        text-align: right;\n",
       "    }\n",
       "</style>\n",
       "<table border=\"1\" class=\"dataframe\">\n",
       "  <thead>\n",
       "    <tr style=\"text-align: right;\">\n",
       "      <th></th>\n",
       "      <th>Title</th>\n",
       "      <th>Price</th>\n",
       "      <th>Ratings</th>\n",
       "      <th>Rating_star</th>\n",
       "      <th>Size</th>\n",
       "      <th>Color</th>\n",
       "      <th>Date</th>\n",
       "    </tr>\n",
       "  </thead>\n",
       "  <tbody>\n",
       "    <tr>\n",
       "      <th>0</th>\n",
       "      <td>SAMSUNG Galaxy Z Fold 4 Cell Phone, Factory Un...</td>\n",
       "      <td>1,499.99</td>\n",
       "      <td>4 ratings</td>\n",
       "      <td>2.9 out of 5 stars</td>\n",
       "      <td>256GB</td>\n",
       "      <td>Phantom Black</td>\n",
       "      <td>2022-10-10</td>\n",
       "    </tr>\n",
       "  </tbody>\n",
       "</table>\n",
       "</div>"
      ],
      "text/plain": [
       "                                               Title     Price    Ratings  \\\n",
       "0  SAMSUNG Galaxy Z Fold 4 Cell Phone, Factory Un...  1,499.99  4 ratings   \n",
       "\n",
       "          Rating_star   Size          Color        Date  \n",
       "0  2.9 out of 5 stars  256GB  Phantom Black  2022-10-10  "
      ]
     },
     "execution_count": 36,
     "metadata": {},
     "output_type": "execute_result"
    }
   ],
   "source": [
    "import pandas as pd\n",
    "Df = pd.read_csv(\"AmazonWebSraperDataset.csv\")\n",
    "Df"
   ]
  },
  {
   "cell_type": "code",
   "execution_count": 38,
   "id": "95797916",
   "metadata": {},
   "outputs": [],
   "source": [
    "#Appending data to the csv\n",
    "# data1 = [title, price, ratings, rating_star, sizes, color, today]\n",
    "# with open(\"AmazonWebSraperDataset.csv\", \"a+\", newline=\"\", encoding=\"UTF8\") as f:\n",
    "#     writer = csv.writer(f)\n",
    "#     writer.writerow(data1)"
   ]
  },
  {
   "cell_type": "code",
   "execution_count": 39,
   "id": "a4eddf94",
   "metadata": {},
   "outputs": [
    {
     "data": {
      "text/html": [
       "<div>\n",
       "<style scoped>\n",
       "    .dataframe tbody tr th:only-of-type {\n",
       "        vertical-align: middle;\n",
       "    }\n",
       "\n",
       "    .dataframe tbody tr th {\n",
       "        vertical-align: top;\n",
       "    }\n",
       "\n",
       "    .dataframe thead th {\n",
       "        text-align: right;\n",
       "    }\n",
       "</style>\n",
       "<table border=\"1\" class=\"dataframe\">\n",
       "  <thead>\n",
       "    <tr style=\"text-align: right;\">\n",
       "      <th></th>\n",
       "      <th>Title</th>\n",
       "      <th>Price</th>\n",
       "      <th>Ratings</th>\n",
       "      <th>Rating_star</th>\n",
       "      <th>Size</th>\n",
       "      <th>Color</th>\n",
       "      <th>Date</th>\n",
       "    </tr>\n",
       "  </thead>\n",
       "  <tbody>\n",
       "    <tr>\n",
       "      <th>0</th>\n",
       "      <td>SAMSUNG Galaxy Z Fold 4 Cell Phone, Factory Un...</td>\n",
       "      <td>1,499.99</td>\n",
       "      <td>4 ratings</td>\n",
       "      <td>2.9 out of 5 stars</td>\n",
       "      <td>256GB</td>\n",
       "      <td>Phantom Black</td>\n",
       "      <td>2022-10-10</td>\n",
       "    </tr>\n",
       "    <tr>\n",
       "      <th>1</th>\n",
       "      <td>SAMSUNG Galaxy Z Fold 4 Cell Phone, Factory Un...</td>\n",
       "      <td>1,499.99</td>\n",
       "      <td>4 ratings</td>\n",
       "      <td>2.9 out of 5 stars</td>\n",
       "      <td>512GB</td>\n",
       "      <td>Phantom Black</td>\n",
       "      <td>2022-10-10</td>\n",
       "    </tr>\n",
       "  </tbody>\n",
       "</table>\n",
       "</div>"
      ],
      "text/plain": [
       "                                               Title     Price    Ratings  \\\n",
       "0  SAMSUNG Galaxy Z Fold 4 Cell Phone, Factory Un...  1,499.99  4 ratings   \n",
       "1  SAMSUNG Galaxy Z Fold 4 Cell Phone, Factory Un...  1,499.99  4 ratings   \n",
       "\n",
       "          Rating_star   Size          Color        Date  \n",
       "0  2.9 out of 5 stars  256GB  Phantom Black  2022-10-10  \n",
       "1  2.9 out of 5 stars  512GB  Phantom Black  2022-10-10  "
      ]
     },
     "execution_count": 39,
     "metadata": {},
     "output_type": "execute_result"
    }
   ],
   "source": [
    "import pandas as pd\n",
    "Df = pd.read_csv(\"AmazonWebSraperDataset.csv\")\n",
    "Df"
   ]
  },
  {
   "cell_type": "code",
   "execution_count": 45,
   "id": "c2e9a58d",
   "metadata": {},
   "outputs": [],
   "source": [
    "#check price per second\n",
    "def check_price():\n",
    "    # Connect to Website and pull in data\n",
    "    URL = \"https://www.amazon.com/SAMSUNG-Unlocked-Smartphone-Foldable-Compatible/dp/B0B3TBBKQ8/ref=sr_1_1_sspa?crid=2U5HP8KKHKD8N&keywords=samsung+galaxy+z+fold+4&qid=1665355442&qu=eyJxc2MiOiI0Ljk3IiwicXNhIjoiNS40MSIsInFzcCI6IjQuNTAifQ%3D%3D&sprefix=samsung+galaxy+z+%2Caps%2C417&sr=8-1-spons&psc=1\"\n",
    "\n",
    "    headers = {\"User-Agent\": \"Mozilla/5.0 (Windows NT 10.0; Win64; x64) AppleWebKit/537.36 (KHTML, like Gecko) Chrome/105.0.0.0 Safari/537.36 Edg/105.0.1343.53\", \"Accept-Encoding\":\"gzip, deflate\", \"Accept\":\"text/html,application/xhtml+xml,application/xml;q=0.9,*/*;q=0.8\", \"DNT\":\"1\",\"Connection\":\"close\", \"Upgrade-Insecure-Requests\":\"1\"}\n",
    "\n",
    "    page = requests.get(URL, headers=headers)\n",
    "\n",
    "    soup1 = BeautifulSoup(page.content, \"html.parser\")\n",
    "\n",
    "    soup2 = BeautifulSoup(soup1.prettify(), \"html.parser\")\n",
    "\n",
    "    title = soup2.find(id=\"productTitle\").get_text()\n",
    "\n",
    "    price = soup2.find(id=\"corePriceDisplay_desktop_feature_div\").get_text()\n",
    "\n",
    "    ratings = soup2.find(id=\"acrCustomerReviewText\").get_text()\n",
    "\n",
    "    rating_star = soup2.find(id=\"acrPopover\").get_text()\n",
    "\n",
    "    size = soup2.find(id=\"variation_size_name\").get_text()\n",
    "\n",
    "    sizes = soup2.find(id=\"variation_size_name\").get_text()\n",
    "\n",
    "    color = soup2.find(id=\"variation_color_name\").get_text()\n",
    "\n",
    "    title = title.strip()\n",
    "    \n",
    "    price = price.strip()[33:41]\n",
    "    \n",
    "    ratings = ratings.strip()\n",
    "\n",
    "    rating_star = rating_star.strip()\n",
    "\n",
    "#     sizes = sizes.strip()[-5::]\n",
    "\n",
    "    size = size.strip()[37:42]\n",
    "\n",
    "    color = color.strip()[38::]\n",
    "\n",
    "\n",
    "    import datetime\n",
    "\n",
    "    today = datetime.date.today()\n",
    "   \n",
    "    import csv\n",
    "\n",
    "    header = [\"Title\", \"Price\", \"Ratings\", \"Rating_star\",\"Size\", \"Color\", \"Date\"]\n",
    "\n",
    "    data = [title, price, ratings, rating_star, size, color, today]\n",
    "       \n",
    "    with open(\"AmazonWebSraperDataset.csv\", \"a+\", newline=\"\", encoding=\"UTF8\") as f:\n",
    "        writer = csv.writer(f)\n",
    "        writer.writerow(data)\n",
    "    if(price<1000):\n",
    "        send_mail()"
   ]
  },
  {
   "cell_type": "code",
   "execution_count": null,
   "id": "6aadf99a",
   "metadata": {},
   "outputs": [],
   "source": [
    "while(True):\n",
    "    check_price()\n",
    "    time.sleep(86400)"
   ]
  },
  {
   "cell_type": "code",
   "execution_count": 47,
   "id": "73850769",
   "metadata": {},
   "outputs": [
    {
     "data": {
      "text/html": [
       "<div>\n",
       "<style scoped>\n",
       "    .dataframe tbody tr th:only-of-type {\n",
       "        vertical-align: middle;\n",
       "    }\n",
       "\n",
       "    .dataframe tbody tr th {\n",
       "        vertical-align: top;\n",
       "    }\n",
       "\n",
       "    .dataframe thead th {\n",
       "        text-align: right;\n",
       "    }\n",
       "</style>\n",
       "<table border=\"1\" class=\"dataframe\">\n",
       "  <thead>\n",
       "    <tr style=\"text-align: right;\">\n",
       "      <th></th>\n",
       "      <th>Title</th>\n",
       "      <th>Price</th>\n",
       "      <th>Ratings</th>\n",
       "      <th>Rating_star</th>\n",
       "      <th>Size</th>\n",
       "      <th>Color</th>\n",
       "      <th>Date</th>\n",
       "    </tr>\n",
       "  </thead>\n",
       "  <tbody>\n",
       "    <tr>\n",
       "      <th>0</th>\n",
       "      <td>SAMSUNG Galaxy Z Fold 4 Cell Phone, Factory Un...</td>\n",
       "      <td>1,499.99</td>\n",
       "      <td>4 ratings</td>\n",
       "      <td>2.9 out of 5 stars</td>\n",
       "      <td>256GB</td>\n",
       "      <td>Phantom Black</td>\n",
       "      <td>2022-10-10</td>\n",
       "    </tr>\n",
       "    <tr>\n",
       "      <th>1</th>\n",
       "      <td>SAMSUNG Galaxy Z Fold 4 Cell Phone, Factory Un...</td>\n",
       "      <td>1,499.99</td>\n",
       "      <td>4 ratings</td>\n",
       "      <td>2.9 out of 5 stars</td>\n",
       "      <td>512GB</td>\n",
       "      <td>Phantom Black</td>\n",
       "      <td>2022-10-10</td>\n",
       "    </tr>\n",
       "    <tr>\n",
       "      <th>2</th>\n",
       "      <td>SAMSUNG Galaxy Z Fold 4 Cell Phone, Factory Un...</td>\n",
       "      <td>1,499.99</td>\n",
       "      <td>4 ratings</td>\n",
       "      <td>2.9 out of 5 stars</td>\n",
       "      <td>256GB</td>\n",
       "      <td>Phantom Black</td>\n",
       "      <td>2022-10-10</td>\n",
       "    </tr>\n",
       "    <tr>\n",
       "      <th>3</th>\n",
       "      <td>SAMSUNG Galaxy Z Fold 4 Cell Phone, Factory Un...</td>\n",
       "      <td>1,499.99</td>\n",
       "      <td>4 ratings</td>\n",
       "      <td>2.9 out of 5 stars</td>\n",
       "      <td>256GB</td>\n",
       "      <td>Phantom Black</td>\n",
       "      <td>2022-10-10</td>\n",
       "    </tr>\n",
       "    <tr>\n",
       "      <th>4</th>\n",
       "      <td>SAMSUNG Galaxy Z Fold 4 Cell Phone, Factory Un...</td>\n",
       "      <td>1,499.99</td>\n",
       "      <td>4 ratings</td>\n",
       "      <td>2.9 out of 5 stars</td>\n",
       "      <td>256GB</td>\n",
       "      <td>Phantom Black</td>\n",
       "      <td>2022-10-10</td>\n",
       "    </tr>\n",
       "    <tr>\n",
       "      <th>5</th>\n",
       "      <td>SAMSUNG Galaxy Z Fold 4 Cell Phone, Factory Un...</td>\n",
       "      <td>1,499.99</td>\n",
       "      <td>4 ratings</td>\n",
       "      <td>2.9 out of 5 stars</td>\n",
       "      <td>256GB</td>\n",
       "      <td>Phantom Black</td>\n",
       "      <td>2022-10-10</td>\n",
       "    </tr>\n",
       "  </tbody>\n",
       "</table>\n",
       "</div>"
      ],
      "text/plain": [
       "                                               Title     Price    Ratings  \\\n",
       "0  SAMSUNG Galaxy Z Fold 4 Cell Phone, Factory Un...  1,499.99  4 ratings   \n",
       "1  SAMSUNG Galaxy Z Fold 4 Cell Phone, Factory Un...  1,499.99  4 ratings   \n",
       "2  SAMSUNG Galaxy Z Fold 4 Cell Phone, Factory Un...  1,499.99  4 ratings   \n",
       "3  SAMSUNG Galaxy Z Fold 4 Cell Phone, Factory Un...  1,499.99  4 ratings   \n",
       "4  SAMSUNG Galaxy Z Fold 4 Cell Phone, Factory Un...  1,499.99  4 ratings   \n",
       "5  SAMSUNG Galaxy Z Fold 4 Cell Phone, Factory Un...  1,499.99  4 ratings   \n",
       "\n",
       "          Rating_star   Size          Color        Date  \n",
       "0  2.9 out of 5 stars  256GB  Phantom Black  2022-10-10  \n",
       "1  2.9 out of 5 stars  512GB  Phantom Black  2022-10-10  \n",
       "2  2.9 out of 5 stars  256GB  Phantom Black  2022-10-10  \n",
       "3  2.9 out of 5 stars  256GB  Phantom Black  2022-10-10  \n",
       "4  2.9 out of 5 stars  256GB  Phantom Black  2022-10-10  \n",
       "5  2.9 out of 5 stars  256GB  Phantom Black  2022-10-10  "
      ]
     },
     "execution_count": 47,
     "metadata": {},
     "output_type": "execute_result"
    }
   ],
   "source": [
    "import pandas as pd\n",
    "Df = pd.read_csv(\"AmazonWebSraperDataset.csv\")\n",
    "Df"
   ]
  },
  {
   "cell_type": "code",
   "execution_count": null,
   "id": "5a6d14d8",
   "metadata": {},
   "outputs": [],
   "source": [
    "def send_mail():\n",
    "    server = smtplib.SMTP_SSL(\"smtp.gmail.com\", 456)\n",
    "    server.ehlo()\n",
    "    server.login(\"Oloyade.wakilu@gmail.com\", \"xxxxxxxxxx\")\n",
    "    \n",
    "    subject = \"The Phone you want is below %1000! Now is your chance to buy!\"\n",
    "    body = \"Wakilu, This is the moment we have been waiting for. Now is your chance to pick up the Phone of your dreams.\"\n",
    "    \n",
    "    msg = f\"subject: {subject}\\n\\n{body}\"\n",
    "    \n",
    "    server.sendmail(\n",
    "        \"Oloyade.wakilu@gmail.com\",\n",
    "        msg\n",
    "    )"
   ]
  }
 ],
 "metadata": {
  "kernelspec": {
   "display_name": "Python 3 (ipykernel)",
   "language": "python",
   "name": "python3"
  },
  "language_info": {
   "codemirror_mode": {
    "name": "ipython",
    "version": 3
   },
   "file_extension": ".py",
   "mimetype": "text/x-python",
   "name": "python",
   "nbconvert_exporter": "python",
   "pygments_lexer": "ipython3",
   "version": "3.9.12"
  }
 },
 "nbformat": 4,
 "nbformat_minor": 5
}
